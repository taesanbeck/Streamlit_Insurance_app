{
 "cells": [
  {
   "cell_type": "code",
   "execution_count": 1,
   "id": "f68cdae9",
   "metadata": {},
   "outputs": [],
   "source": [
    "import pandas as pd\n",
    "import numpy as np\n",
    "import matplotlib.pyplot as plt\n",
    "import seaborn as sns"
   ]
  },
  {
   "cell_type": "code",
   "execution_count": 4,
   "id": "a7ae88d5",
   "metadata": {},
   "outputs": [],
   "source": [
    "dataset = pd.read_csv(\"refined_insurance.csv\")"
   ]
  },
  {
   "cell_type": "code",
   "execution_count": 5,
   "id": "8a77501f",
   "metadata": {},
   "outputs": [
    {
     "data": {
      "text/html": [
       "<div>\n",
       "<style scoped>\n",
       "    .dataframe tbody tr th:only-of-type {\n",
       "        vertical-align: middle;\n",
       "    }\n",
       "\n",
       "    .dataframe tbody tr th {\n",
       "        vertical-align: top;\n",
       "    }\n",
       "\n",
       "    .dataframe thead th {\n",
       "        text-align: right;\n",
       "    }\n",
       "</style>\n",
       "<table border=\"1\" class=\"dataframe\">\n",
       "  <thead>\n",
       "    <tr style=\"text-align: right;\">\n",
       "      <th></th>\n",
       "      <th>Unnamed: 0</th>\n",
       "      <th>age</th>\n",
       "      <th>bmi</th>\n",
       "      <th>steps</th>\n",
       "      <th>children</th>\n",
       "      <th>smoker</th>\n",
       "      <th>region</th>\n",
       "      <th>charges 2022 inflation adj</th>\n",
       "      <th>Primary Care expenses 2022</th>\n",
       "      <th>Prescription expenses 2022</th>\n",
       "      <th>Preventative care expenses 2022</th>\n",
       "      <th>Total 2022 PPP expenses</th>\n",
       "      <th>Forward PPP expenses</th>\n",
       "      <th>Age Category</th>\n",
       "      <th>BMI Category</th>\n",
       "      <th>proposed_price</th>\n",
       "      <th>benefit/cost from proposed pricing</th>\n",
       "      <th>Benefit from Proposed Price Yes/No</th>\n",
       "    </tr>\n",
       "  </thead>\n",
       "  <tbody>\n",
       "    <tr>\n",
       "      <th>0</th>\n",
       "      <td>0</td>\n",
       "      <td>19</td>\n",
       "      <td>27.900</td>\n",
       "      <td>3009</td>\n",
       "      <td>0</td>\n",
       "      <td>True</td>\n",
       "      <td>southwest</td>\n",
       "      <td>21762.978544</td>\n",
       "      <td>970.628843</td>\n",
       "      <td>1305.778713</td>\n",
       "      <td>824.599257</td>\n",
       "      <td>3101.006813</td>\n",
       "      <td>1788</td>\n",
       "      <td>19 - 35</td>\n",
       "      <td>26 - 35</td>\n",
       "      <td>3375.0</td>\n",
       "      <td>-273.993187</td>\n",
       "      <td>False</td>\n",
       "    </tr>\n",
       "    <tr>\n",
       "      <th>1</th>\n",
       "      <td>1</td>\n",
       "      <td>18</td>\n",
       "      <td>33.770</td>\n",
       "      <td>3008</td>\n",
       "      <td>1</td>\n",
       "      <td>False</td>\n",
       "      <td>southeast</td>\n",
       "      <td>2224.064359</td>\n",
       "      <td>99.193270</td>\n",
       "      <td>133.443862</td>\n",
       "      <td>84.269799</td>\n",
       "      <td>316.906931</td>\n",
       "      <td>1788</td>\n",
       "      <td>18 or younger</td>\n",
       "      <td>26 - 35</td>\n",
       "      <td>975.0</td>\n",
       "      <td>-658.093069</td>\n",
       "      <td>False</td>\n",
       "    </tr>\n",
       "    <tr>\n",
       "      <th>2</th>\n",
       "      <td>2</td>\n",
       "      <td>28</td>\n",
       "      <td>33.000</td>\n",
       "      <td>3009</td>\n",
       "      <td>3</td>\n",
       "      <td>False</td>\n",
       "      <td>southeast</td>\n",
       "      <td>5734.911572</td>\n",
       "      <td>255.777056</td>\n",
       "      <td>344.094694</td>\n",
       "      <td>217.295799</td>\n",
       "      <td>817.167550</td>\n",
       "      <td>1788</td>\n",
       "      <td>19 - 35</td>\n",
       "      <td>26 - 35</td>\n",
       "      <td>1350.0</td>\n",
       "      <td>-532.832450</td>\n",
       "      <td>False</td>\n",
       "    </tr>\n",
       "    <tr>\n",
       "      <th>3</th>\n",
       "      <td>3</td>\n",
       "      <td>33</td>\n",
       "      <td>22.705</td>\n",
       "      <td>10009</td>\n",
       "      <td>0</td>\n",
       "      <td>False</td>\n",
       "      <td>northwest</td>\n",
       "      <td>28335.784169</td>\n",
       "      <td>1263.775974</td>\n",
       "      <td>1700.147050</td>\n",
       "      <td>1073.642862</td>\n",
       "      <td>4037.565886</td>\n",
       "      <td>1788</td>\n",
       "      <td>19 - 35</td>\n",
       "      <td>&lt;25</td>\n",
       "      <td>1080.0</td>\n",
       "      <td>2957.565886</td>\n",
       "      <td>True</td>\n",
       "    </tr>\n",
       "    <tr>\n",
       "      <th>4</th>\n",
       "      <td>4</td>\n",
       "      <td>32</td>\n",
       "      <td>28.880</td>\n",
       "      <td>8010</td>\n",
       "      <td>0</td>\n",
       "      <td>False</td>\n",
       "      <td>northwest</td>\n",
       "      <td>4983.989667</td>\n",
       "      <td>222.285939</td>\n",
       "      <td>299.039380</td>\n",
       "      <td>188.843368</td>\n",
       "      <td>710.168688</td>\n",
       "      <td>1788</td>\n",
       "      <td>19 - 35</td>\n",
       "      <td>26 - 35</td>\n",
       "      <td>1350.0</td>\n",
       "      <td>-639.831312</td>\n",
       "      <td>False</td>\n",
       "    </tr>\n",
       "  </tbody>\n",
       "</table>\n",
       "</div>"
      ],
      "text/plain": [
       "   Unnamed: 0  age     bmi  steps  children  smoker     region  \\\n",
       "0           0   19  27.900   3009         0    True  southwest   \n",
       "1           1   18  33.770   3008         1   False  southeast   \n",
       "2           2   28  33.000   3009         3   False  southeast   \n",
       "3           3   33  22.705  10009         0   False  northwest   \n",
       "4           4   32  28.880   8010         0   False  northwest   \n",
       "\n",
       "   charges 2022 inflation adj  Primary Care expenses 2022  \\\n",
       "0                21762.978544                  970.628843   \n",
       "1                 2224.064359                   99.193270   \n",
       "2                 5734.911572                  255.777056   \n",
       "3                28335.784169                 1263.775974   \n",
       "4                 4983.989667                  222.285939   \n",
       "\n",
       "   Prescription expenses 2022  Preventative care expenses 2022  \\\n",
       "0                 1305.778713                       824.599257   \n",
       "1                  133.443862                        84.269799   \n",
       "2                  344.094694                       217.295799   \n",
       "3                 1700.147050                      1073.642862   \n",
       "4                  299.039380                       188.843368   \n",
       "\n",
       "   Total 2022 PPP expenses  Forward PPP expenses   Age Category BMI Category  \\\n",
       "0              3101.006813                  1788        19 - 35      26 - 35   \n",
       "1               316.906931                  1788  18 or younger      26 - 35   \n",
       "2               817.167550                  1788        19 - 35      26 - 35   \n",
       "3              4037.565886                  1788        19 - 35          <25   \n",
       "4               710.168688                  1788        19 - 35      26 - 35   \n",
       "\n",
       "   proposed_price  benefit/cost from proposed pricing  \\\n",
       "0          3375.0                         -273.993187   \n",
       "1           975.0                         -658.093069   \n",
       "2          1350.0                         -532.832450   \n",
       "3          1080.0                         2957.565886   \n",
       "4          1350.0                         -639.831312   \n",
       "\n",
       "   Benefit from Proposed Price Yes/No  \n",
       "0                               False  \n",
       "1                               False  \n",
       "2                               False  \n",
       "3                                True  \n",
       "4                               False  "
      ]
     },
     "execution_count": 5,
     "metadata": {},
     "output_type": "execute_result"
    }
   ],
   "source": [
    "dataset.head()"
   ]
  },
  {
   "cell_type": "code",
   "execution_count": 17,
   "id": "0b12f4a5",
   "metadata": {
    "scrolled": true
   },
   "outputs": [
    {
     "data": {
      "text/plain": [
       "<function matplotlib.pyplot.show(close=None, block=None)>"
      ]
     },
     "execution_count": 17,
     "metadata": {},
     "output_type": "execute_result"
    },
    {
     "data": {
      "image/png": "[encoded data removed]",
      "text/plain": [
       "<Figure size 640x480 with 1 Axes>"
      ]
     },
     "metadata": {},
     "output_type": "display_data"
    }
   ],
   "source": [
    "sns.barplot(x=\"BMI Category\", y=\"age\", hue=\"smoker\", data=dataset, palette=\"Blues\")\n",
    "plt.show"
   ]
  },
  {
   "cell_type": "code",
   "execution_count": 18,
   "id": "49270ac8",
   "metadata": {},
   "outputs": [
    {
     "data": {
      "text/plain": [
       "<function matplotlib.pyplot.show(close=None, block=None)>"
      ]
     },
     "execution_count": 18,
     "metadata": {},
     "output_type": "execute_result"
    },
    {
     "data": {
      "image/png": "[encoded data removed]",
      "text/plain": [
       "<Figure size 640x480 with 1 Axes>"
      ]
     },
     "metadata": {},
     "output_type": "display_data"
    }
   ],
   "source": [
    "sns.boxplot(x=\"smoker\", y=\"age\", data=dataset, palette=\"Blues\")\n",
    "plt.show"
   ]
  },
  {
   "cell_type": "code",
   "execution_count": 19,
   "id": "7890adfd",
   "metadata": {},
   "outputs": [
    {
     "data": {
      "text/plain": [
       "<function matplotlib.pyplot.show(close=None, block=None)>"
      ]
     },
     "execution_count": 19,
     "metadata": {},
     "output_type": "execute_result"
    },
    {
     "data": {
      "image/png": "[encoded data removed]",
      "text/plain": [
       "<Figure size 640x480 with 1 Axes>"
      ]
     },
     "metadata": {},
     "output_type": "display_data"
    }
   ],
   "source": [
    "sns.boxplot(x=\"smoker\", y=\"bmi\", data=dataset, palette=\"Blues\")\n",
    "plt.show"
   ]
  },
  {
   "cell_type": "code",
   "execution_count": 20,
   "id": "e3fe6903",
   "metadata": {},
   "outputs": [
    {
     "data": {
      "text/plain": [
       "<function matplotlib.pyplot.show(close=None, block=None)>"
      ]
     },
     "execution_count": 20,
     "metadata": {},
     "output_type": "execute_result"
    },
    {
     "data": {
      "image/png": "[encoded data removed]",
      "text/plain": [
       "<Figure size 640x480 with 1 Axes>"
      ]
     },
     "metadata": {},
     "output_type": "display_data"
    }
   ],
   "source": [
    "sns.boxplot(x=\"smoker\", y=\"Total 2022 PPP expenses\", data=dataset, palette=\"Blues\")\n",
    "plt.show"
   ]
  },
  {
   "cell_type": "code",
   "execution_count": null,
   "id": "b1342c91",
   "metadata": {},
   "outputs": [],
   "source": []
  }
 ],
 "metadata": {
  "kernelspec": {
   "display_name": "Python 3 (ipykernel)",
   "language": "python",
   "name": "python3"
  },
  "language_info": {
   "codemirror_mode": {
    "name": "ipython",
    "version": 3
   },
   "file_extension": ".py",
   "mimetype": "text/x-python",
   "name": "python",
   "nbconvert_exporter": "python",
   "pygments_lexer": "ipython3",
   "version": "3.9.13"
  }
 },
 "nbformat": 4,
 "nbformat_minor": 5
}
